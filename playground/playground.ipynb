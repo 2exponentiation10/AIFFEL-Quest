{
 "cells": [
  {
   "cell_type": "code",
   "execution_count": 13,
   "id": "9a66d813",
   "metadata": {},
   "outputs": [
    {
     "name": "stdout",
     "output_type": "stream",
     "text": [
      "Model: \"model_3\"\n",
      "_________________________________________________________________\n",
      "Layer (type)                 Output Shape              Param #   \n",
      "=================================================================\n",
      "input_4 (InputLayer)         [(None, 28, 28, 1)]       0         \n",
      "_________________________________________________________________\n",
      "conv2d_3 (Conv2D)            (None, 28, 28, 5)         50        \n",
      "_________________________________________________________________\n",
      "max_pooling2d_3 (MaxPooling2 (None, 9, 9, 5)           0         \n",
      "_________________________________________________________________\n",
      "flatten_3 (Flatten)          (None, 405)               0         \n",
      "_________________________________________________________________\n",
      "dropout_3 (Dropout)          (None, 405)               0         \n",
      "_________________________________________________________________\n",
      "dense_3 (Dense)              (None, 10)                4060      \n",
      "_________________________________________________________________\n",
      "activation_3 (Activation)    (None, 10)                0         \n",
      "=================================================================\n",
      "Total params: 4,110\n",
      "Trainable params: 4,110\n",
      "Non-trainable params: 0\n",
      "_________________________________________________________________\n"
     ]
    }
   ],
   "source": [
    "import tensorflow as tf\n",
    "from tensorflow.keras.layers import Input, Conv2D, MaxPooling2D, Flatten, Dropout, Dense, Activation\n",
    "from tensorflow.keras.models import Model\n",
    "\n",
    "# 입력 레이어 (예시로 입력 이미지 크기를 (28, 28, 1)로 설정)\n",
    "input_shape = (28, 28, 1)\n",
    "inputs = Input(shape=input_shape)\n",
    "\n",
    "# Conv2D 레이어\n",
    "x = Conv2D(5, kernel_size=(3, 3), strides=(1, 1), padding='same')(inputs)\n",
    "\n",
    "# MaxPooling2D 레이어\n",
    "x = MaxPooling2D(pool_size=(3, 3))(x)\n",
    "\n",
    "# Flatten 레이어\n",
    "x = Flatten()(x)\n",
    "\n",
    "# Dropout 레이어\n",
    "x = Dropout(0.5)(x)\n",
    "\n",
    "# Dense (Linear) 레이어\n",
    "x = Dense(10)(x)\n",
    "\n",
    "# Sigmoid 활성화 함수\n",
    "outputs = Activation('relu')(x)\n",
    "\n",
    "# 모델 정의\n",
    "model = Model(inputs=inputs, outputs=outputs)\n",
    "\n",
    "# 모델 요약 출력\n",
    "model.summary()\n"
   ]
  },
  {
   "cell_type": "code",
   "execution_count": 14,
   "id": "a3a2f4b9",
   "metadata": {},
   "outputs": [],
   "source": [
    "# mnist data load and preprocessing\n",
    "from tensorflow.keras.datasets import mnist\n",
    "\n",
    "(images, labels), (test_images, test_labels) = mnist.load_data()\n",
    "images = images.reshape((60000, 28 , 28)).astype(\"float32\") / 255\n",
    "test_images = test_images.reshape((10000, 28 , 28)).astype(\"float32\") / 255\n",
    "train_images, val_images = images[10000:], images[:10000]\n",
    "train_labels, val_labels = labels[10000:], labels[:10000]# "
   ]
  },
  {
   "cell_type": "code",
   "execution_count": 15,
   "id": "b1a0ca76",
   "metadata": {},
   "outputs": [
    {
     "name": "stdout",
     "output_type": "stream",
     "text": [
      "Epoch 1/5\n",
      "2500/2500 [==============================] - 19s 7ms/step - loss: 2.4994 - accuracy: 0.1400 - val_loss: 2.3026 - val_accuracy: 0.1041\n",
      "Epoch 2/5\n",
      "2500/2500 [==============================] - 19s 7ms/step - loss: 2.3490 - accuracy: 0.1183 - val_loss: 2.2538 - val_accuracy: 0.1026\n",
      "Epoch 3/5\n",
      "2500/2500 [==============================] - 19s 8ms/step - loss: 2.3177 - accuracy: 0.1186 - val_loss: 2.3026 - val_accuracy: 0.1066\n",
      "Epoch 4/5\n",
      "2500/2500 [==============================] - 18s 7ms/step - loss: 2.3207 - accuracy: 0.1197 - val_loss: 2.3026 - val_accuracy: 0.1048\n",
      "Epoch 5/5\n",
      "2500/2500 [==============================] - 18s 7ms/step - loss: 2.3019 - accuracy: 0.1160 - val_loss: 2.2964 - val_accuracy: 0.0997\n"
     ]
    }
   ],
   "source": [
    "# model compile and fit argument\n",
    "model.compile(\n",
    "\t    optimizer=\"sgd\",\n",
    "      loss=\"sparse_categorical_crossentropy\",\n",
    "      metrics=[\"accuracy\"])\n",
    "history = model.fit(train_images, train_labels,\n",
    "          batch_size=20,\n",
    "          epochs=5,\n",
    "          validation_data=(val_images, val_labels))"
   ]
  },
  {
   "cell_type": "code",
   "execution_count": 16,
   "id": "06073d20",
   "metadata": {},
   "outputs": [
    {
     "name": "stdout",
     "output_type": "stream",
     "text": [
      "accuracy:  0.116, validation accuracy: 0.100\n"
     ]
    },
    {
     "data": {
      "image/png": "[encoded data removed]",
      "text/plain": [
       "<Figure size 432x288 with 1 Axes>"
      ]
     },
     "metadata": {
      "needs_background": "light"
     },
     "output_type": "display_data"
    },
    {
     "name": "stdout",
     "output_type": "stream",
     "text": [
      "loss:  2.302, validation loss: 2.296\n"
     ]
    },
    {
     "data": {
      "image/png": "[encoded data removed]",
      "text/plain": [
       "<Figure size 432x288 with 1 Axes>"
      ]
     },
     "metadata": {
      "needs_background": "light"
     },
     "output_type": "display_data"
    }
   ],
   "source": [
    "import matplotlib.pyplot as plt\n",
    "import seaborn as sns\n",
    "\n",
    "print(f\"accuracy: {history.history['accuracy'][-1]: .3f}, validation accuracy: {history.history['val_accuracy'][-1]:.3f}\")\n",
    "plt.plot(range(5), history.history['accuracy'], label='accuracy')\n",
    "plt.plot(range(5), history.history['val_accuracy'], label='validation accuracy')\n",
    "plt.legend()\n",
    "plt.show()\n",
    "print(f\"loss: {history.history['loss'][-1]: .3f}, validation loss: {history.history['val_loss'][-1]:.3f}\")\n",
    "plt.plot(range(5), history.history['loss'], label='loss')\n",
    "plt.plot(range(5), history.history['val_loss'], label='validation_loss')\n",
    "plt.legend()\n",
    "plt.show()"
   ]
  }
 ],
 "metadata": {
  "kernelspec": {
   "display_name": "Python 3 (ipykernel)",
   "language": "python",
   "name": "python3"
  },
  "language_info": {
   "codemirror_mode": {
    "name": "ipython",
    "version": 3
   },
   "file_extension": ".py",
   "mimetype": "text/x-python",
   "name": "python",
   "nbconvert_exporter": "python",
   "pygments_lexer": "ipython3",
   "version": "3.9.7"
  }
 },
 "nbformat": 4,
 "nbformat_minor": 5
}
