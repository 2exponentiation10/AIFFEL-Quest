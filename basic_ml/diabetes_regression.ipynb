{
 "cells": [
  {
   "cell_type": "code",
   "execution_count": 1,
   "id": "f7e10f2d",
   "metadata": {},
   "outputs": [],
   "source": [
    "import pandas as pd\n",
    "import numpy as np\n",
    "import matplotlib.pyplot as plt\n",
    "import seaborn as sns"
   ]
  },
  {
   "cell_type": "markdown",
   "id": "d4037cde",
   "metadata": {},
   "source": [
    "### (1) 데이터 가져오기"
   ]
  },
  {
   "cell_type": "code",
   "execution_count": 2,
   "id": "b88ba13d",
   "metadata": {},
   "outputs": [],
   "source": [
    "from sklearn.datasets import load_diabetes\n",
    "\n",
    "diabetes=load_diabetes(as_frame=True)"
   ]
  },
  {
   "cell_type": "code",
   "execution_count": 3,
   "id": "b4243012",
   "metadata": {},
   "outputs": [],
   "source": [
    "df_x = diabetes.data\n",
    "df_y = diabetes.target"
   ]
  },
  {
   "cell_type": "code",
   "execution_count": 4,
   "id": "6c120ede",
   "metadata": {},
   "outputs": [
    {
     "name": "stdout",
     "output_type": "stream",
     "text": [
      "(442, 10)\n",
      "(442,)\n"
     ]
    }
   ],
   "source": [
    "print(df_x.shape)\n",
    "print(df_y.shape)"
   ]
  },
  {
   "cell_type": "code",
   "execution_count": 5,
   "id": "b99a96bf",
   "metadata": {},
   "outputs": [
    {
     "data": {
      "text/html": [
       "<div>\n",
       "<style scoped>\n",
       "    .dataframe tbody tr th:only-of-type {\n",
       "        vertical-align: middle;\n",
       "    }\n",
       "\n",
       "    .dataframe tbody tr th {\n",
       "        vertical-align: top;\n",
       "    }\n",
       "\n",
       "    .dataframe thead th {\n",
       "        text-align: right;\n",
       "    }\n",
       "</style>\n",
       "<table border=\"1\" class=\"dataframe\">\n",
       "  <thead>\n",
       "    <tr style=\"text-align: right;\">\n",
       "      <th></th>\n",
       "      <th>age</th>\n",
       "      <th>sex</th>\n",
       "      <th>bmi</th>\n",
       "      <th>bp</th>\n",
       "      <th>s1</th>\n",
       "      <th>s2</th>\n",
       "      <th>s3</th>\n",
       "      <th>s4</th>\n",
       "      <th>s5</th>\n",
       "      <th>s6</th>\n",
       "    </tr>\n",
       "  </thead>\n",
       "  <tbody>\n",
       "    <tr>\n",
       "      <th>0</th>\n",
       "      <td>0.038076</td>\n",
       "      <td>0.050680</td>\n",
       "      <td>0.061696</td>\n",
       "      <td>0.021872</td>\n",
       "      <td>-0.044223</td>\n",
       "      <td>-0.034821</td>\n",
       "      <td>-0.043401</td>\n",
       "      <td>-0.002592</td>\n",
       "      <td>0.019908</td>\n",
       "      <td>-0.017646</td>\n",
       "    </tr>\n",
       "    <tr>\n",
       "      <th>1</th>\n",
       "      <td>-0.001882</td>\n",
       "      <td>-0.044642</td>\n",
       "      <td>-0.051474</td>\n",
       "      <td>-0.026328</td>\n",
       "      <td>-0.008449</td>\n",
       "      <td>-0.019163</td>\n",
       "      <td>0.074412</td>\n",
       "      <td>-0.039493</td>\n",
       "      <td>-0.068330</td>\n",
       "      <td>-0.092204</td>\n",
       "    </tr>\n",
       "    <tr>\n",
       "      <th>2</th>\n",
       "      <td>0.085299</td>\n",
       "      <td>0.050680</td>\n",
       "      <td>0.044451</td>\n",
       "      <td>-0.005671</td>\n",
       "      <td>-0.045599</td>\n",
       "      <td>-0.034194</td>\n",
       "      <td>-0.032356</td>\n",
       "      <td>-0.002592</td>\n",
       "      <td>0.002864</td>\n",
       "      <td>-0.025930</td>\n",
       "    </tr>\n",
       "    <tr>\n",
       "      <th>3</th>\n",
       "      <td>-0.089063</td>\n",
       "      <td>-0.044642</td>\n",
       "      <td>-0.011595</td>\n",
       "      <td>-0.036656</td>\n",
       "      <td>0.012191</td>\n",
       "      <td>0.024991</td>\n",
       "      <td>-0.036038</td>\n",
       "      <td>0.034309</td>\n",
       "      <td>0.022692</td>\n",
       "      <td>-0.009362</td>\n",
       "    </tr>\n",
       "    <tr>\n",
       "      <th>4</th>\n",
       "      <td>0.005383</td>\n",
       "      <td>-0.044642</td>\n",
       "      <td>-0.036385</td>\n",
       "      <td>0.021872</td>\n",
       "      <td>0.003935</td>\n",
       "      <td>0.015596</td>\n",
       "      <td>0.008142</td>\n",
       "      <td>-0.002592</td>\n",
       "      <td>-0.031991</td>\n",
       "      <td>-0.046641</td>\n",
       "    </tr>\n",
       "  </tbody>\n",
       "</table>\n",
       "</div>"
      ],
      "text/plain": [
       "        age       sex       bmi        bp        s1        s2        s3  \\\n",
       "0  0.038076  0.050680  0.061696  0.021872 -0.044223 -0.034821 -0.043401   \n",
       "1 -0.001882 -0.044642 -0.051474 -0.026328 -0.008449 -0.019163  0.074412   \n",
       "2  0.085299  0.050680  0.044451 -0.005671 -0.045599 -0.034194 -0.032356   \n",
       "3 -0.089063 -0.044642 -0.011595 -0.036656  0.012191  0.024991 -0.036038   \n",
       "4  0.005383 -0.044642 -0.036385  0.021872  0.003935  0.015596  0.008142   \n",
       "\n",
       "         s4        s5        s6  \n",
       "0 -0.002592  0.019908 -0.017646  \n",
       "1 -0.039493 -0.068330 -0.092204  \n",
       "2 -0.002592  0.002864 -0.025930  \n",
       "3  0.034309  0.022692 -0.009362  \n",
       "4 -0.002592 -0.031991 -0.046641  "
      ]
     },
     "execution_count": 5,
     "metadata": {},
     "output_type": "execute_result"
    }
   ],
   "source": [
    "df_x.head()"
   ]
  },
  {
   "cell_type": "markdown",
   "id": "33daaa79",
   "metadata": {},
   "source": [
    "### (2)(3) 모델에 입력할 데이터 X, y 준비하기"
   ]
  },
  {
   "cell_type": "code",
   "execution_count": 6,
   "id": "7b5de487",
   "metadata": {},
   "outputs": [],
   "source": [
    "X = df_x.values\n",
    "y = df_y.values"
   ]
  },
  {
   "cell_type": "markdown",
   "id": "d8a57a60",
   "metadata": {},
   "source": [
    "### (4) train 데이터와 test 데이터로 분리하기"
   ]
  },
  {
   "cell_type": "code",
   "execution_count": 7,
   "id": "474b286a",
   "metadata": {},
   "outputs": [
    {
     "name": "stdout",
     "output_type": "stream",
     "text": [
      "(331, 10) (331,)\n",
      "(111, 10) (111,)\n"
     ]
    }
   ],
   "source": [
    "from sklearn.model_selection import train_test_split\n",
    "X_train, X_test, y_train, y_test = train_test_split(X, y)\n",
    "\n",
    "print(X_train.shape, y_train.shape)\n",
    "print(X_test.shape, y_test.shape)"
   ]
  },
  {
   "cell_type": "markdown",
   "id": "534d083f",
   "metadata": {},
   "source": [
    "### (5) 모델 준비하기"
   ]
  },
  {
   "cell_type": "code",
   "execution_count": 8,
   "id": "aad910a9",
   "metadata": {},
   "outputs": [],
   "source": [
    "W = np.random.rand(X_train.shape[1])\n",
    "b = np.random.rand()"
   ]
  },
  {
   "cell_type": "code",
   "execution_count": 9,
   "id": "a5bfe614",
   "metadata": {},
   "outputs": [],
   "source": [
    "def model(X, W, b):\n",
    "    predictions = 0\n",
    "    for i in range(X_train.shape[1]):\n",
    "        predictions += X[:, i] * W[i]\n",
    "    predictions += b\n",
    "    return predictions"
   ]
  },
  {
   "cell_type": "markdown",
   "id": "c5ba168b",
   "metadata": {},
   "source": [
    "### (6) 손실함수 loss 정의하기"
   ]
  },
  {
   "cell_type": "code",
   "execution_count": 10,
   "id": "43278746",
   "metadata": {},
   "outputs": [],
   "source": [
    "def MSE(a, b):\n",
    "    mse = ((a - b) ** 2).mean()  # 두 값의 차이의 제곱의 평균\n",
    "    return mse"
   ]
  },
  {
   "cell_type": "code",
   "execution_count": 11,
   "id": "9d52f925",
   "metadata": {},
   "outputs": [],
   "source": [
    "def loss(X, W, b, y):\n",
    "    predictions = model(X, W, b)\n",
    "    L = MSE(predictions, y)\n",
    "    return L"
   ]
  },
  {
   "cell_type": "markdown",
   "id": "390dd8ea",
   "metadata": {},
   "source": [
    "### (7) 기울기를 구하는 gradient 함수 구현하기"
   ]
  },
  {
   "cell_type": "code",
   "execution_count": 12,
   "id": "e4249c8e",
   "metadata": {},
   "outputs": [],
   "source": [
    "def gradient(X, W, b, y):\n",
    "    N = len(y)\n",
    "    \n",
    "    y_pred = model(X, W, b)\n",
    "    \n",
    "    dW = 1/N * 2 * X.T.dot(y_pred - y)\n",
    "    db = 2 * (y_pred - y).mean()\n",
    "    return dW, db"
   ]
  },
  {
   "cell_type": "markdown",
   "id": "b2a27937",
   "metadata": {},
   "source": [
    "### (8) 하이퍼 파라미터인 학습률 설정하기"
   ]
  },
  {
   "cell_type": "code",
   "execution_count": 13,
   "id": "4d767f52",
   "metadata": {},
   "outputs": [],
   "source": [
    "LEARNING_RATE = 0.0001"
   ]
  },
  {
   "cell_type": "markdown",
   "id": "1658f1ec",
   "metadata": {},
   "source": [
    "### (9) 모델 학습하기"
   ]
  },
  {
   "cell_type": "code",
   "execution_count": 14,
   "id": "142b67d3",
   "metadata": {},
   "outputs": [
    {
     "name": "stdout",
     "output_type": "stream",
     "text": [
      "Iteration 10 : Loss 28370.1504\n",
      "Iteration 20 : Loss 28279.3549\n",
      "Iteration 30 : Loss 28188.9216\n",
      "Iteration 40 : Loss 28098.8490\n",
      "Iteration 50 : Loss 28009.1357\n",
      "Iteration 60 : Loss 27919.7803\n",
      "Iteration 70 : Loss 27830.7813\n",
      "Iteration 80 : Loss 27742.1374\n",
      "Iteration 90 : Loss 27653.8470\n",
      "Iteration 100 : Loss 27565.9089\n",
      "Iteration 110 : Loss 27478.3215\n",
      "Iteration 120 : Loss 27391.0835\n",
      "Iteration 130 : Loss 27304.1935\n",
      "Iteration 140 : Loss 27217.6501\n",
      "Iteration 150 : Loss 27131.4519\n",
      "Iteration 160 : Loss 27045.5976\n",
      "Iteration 170 : Loss 26960.0857\n",
      "Iteration 180 : Loss 26874.9149\n",
      "Iteration 190 : Loss 26790.0838\n",
      "Iteration 200 : Loss 26705.5911\n",
      "Iteration 210 : Loss 26621.4355\n",
      "Iteration 220 : Loss 26537.6155\n",
      "Iteration 230 : Loss 26454.1299\n",
      "Iteration 240 : Loss 26370.9773\n",
      "Iteration 250 : Loss 26288.1563\n",
      "Iteration 260 : Loss 26205.6657\n",
      "Iteration 270 : Loss 26123.5042\n",
      "Iteration 280 : Loss 26041.6703\n",
      "Iteration 290 : Loss 25960.1629\n",
      "Iteration 300 : Loss 25878.9806\n",
      "Iteration 310 : Loss 25798.1221\n",
      "Iteration 320 : Loss 25717.5861\n",
      "Iteration 330 : Loss 25637.3713\n",
      "Iteration 340 : Loss 25557.4765\n",
      "Iteration 350 : Loss 25477.9004\n",
      "Iteration 360 : Loss 25398.6416\n",
      "Iteration 370 : Loss 25319.6990\n",
      "Iteration 380 : Loss 25241.0713\n",
      "Iteration 390 : Loss 25162.7571\n",
      "Iteration 400 : Loss 25084.7554\n",
      "Iteration 410 : Loss 25007.0647\n",
      "Iteration 420 : Loss 24929.6839\n",
      "Iteration 430 : Loss 24852.6118\n",
      "Iteration 440 : Loss 24775.8470\n",
      "Iteration 450 : Loss 24699.3884\n",
      "Iteration 460 : Loss 24623.2348\n",
      "Iteration 470 : Loss 24547.3849\n",
      "Iteration 480 : Loss 24471.8375\n",
      "Iteration 490 : Loss 24396.5915\n",
      "Iteration 500 : Loss 24321.6455\n",
      "Iteration 510 : Loss 24246.9985\n",
      "Iteration 520 : Loss 24172.6492\n",
      "Iteration 530 : Loss 24098.5964\n",
      "Iteration 540 : Loss 24024.8390\n",
      "Iteration 550 : Loss 23951.3757\n",
      "Iteration 560 : Loss 23878.2054\n",
      "Iteration 570 : Loss 23805.3270\n",
      "Iteration 580 : Loss 23732.7392\n",
      "Iteration 590 : Loss 23660.4409\n",
      "Iteration 600 : Loss 23588.4309\n",
      "Iteration 610 : Loss 23516.7082\n",
      "Iteration 620 : Loss 23445.2714\n",
      "Iteration 630 : Loss 23374.1196\n",
      "Iteration 640 : Loss 23303.2516\n",
      "Iteration 650 : Loss 23232.6662\n",
      "Iteration 660 : Loss 23162.3622\n",
      "Iteration 670 : Loss 23092.3387\n",
      "Iteration 680 : Loss 23022.5944\n",
      "Iteration 690 : Loss 22953.1283\n",
      "Iteration 700 : Loss 22883.9392\n",
      "Iteration 710 : Loss 22815.0260\n",
      "Iteration 720 : Loss 22746.3877\n",
      "Iteration 730 : Loss 22678.0231\n",
      "Iteration 740 : Loss 22609.9311\n",
      "Iteration 750 : Loss 22542.1107\n",
      "Iteration 760 : Loss 22474.5608\n",
      "Iteration 770 : Loss 22407.2802\n",
      "Iteration 780 : Loss 22340.2679\n",
      "Iteration 790 : Loss 22273.5229\n",
      "Iteration 800 : Loss 22207.0441\n",
      "Iteration 810 : Loss 22140.8303\n",
      "Iteration 820 : Loss 22074.8806\n",
      "Iteration 830 : Loss 22009.1939\n",
      "Iteration 840 : Loss 21943.7692\n",
      "Iteration 850 : Loss 21878.6053\n",
      "Iteration 860 : Loss 21813.7013\n",
      "Iteration 870 : Loss 21749.0562\n",
      "Iteration 880 : Loss 21684.6688\n",
      "Iteration 890 : Loss 21620.5381\n",
      "Iteration 900 : Loss 21556.6633\n",
      "Iteration 910 : Loss 21493.0431\n",
      "Iteration 920 : Loss 21429.6766\n",
      "Iteration 930 : Loss 21366.5628\n",
      "Iteration 940 : Loss 21303.7007\n",
      "Iteration 950 : Loss 21241.0892\n",
      "Iteration 960 : Loss 21178.7274\n",
      "Iteration 970 : Loss 21116.6143\n",
      "Iteration 980 : Loss 21054.7489\n",
      "Iteration 990 : Loss 20993.1301\n",
      "Iteration 1000 : Loss 20931.7571\n"
     ]
    }
   ],
   "source": [
    "losses = []\n",
    "\n",
    "for i in range(1, 1001):\n",
    "    dW, db = gradient(X_train, W, b, y_train)\n",
    "    W -= LEARNING_RATE * dW\n",
    "    b -= LEARNING_RATE * db\n",
    "    L = loss(X_train, W, b, y_train)\n",
    "    losses.append(L)\n",
    "    if i % 10 == 0:\n",
    "        print('Iteration %d : Loss %0.4f' % (i, L))"
   ]
  },
  {
   "cell_type": "code",
   "execution_count": 15,
   "id": "e67a3f0a",
   "metadata": {},
   "outputs": [
    {
     "data": {
      "image/png": "[encoded data removed]",
      "text/plain": [
       "<Figure size 432x288 with 1 Axes>"
      ]
     },
     "metadata": {
      "needs_background": "light"
     },
     "output_type": "display_data"
    }
   ],
   "source": [
    "plt.plot(losses)\n",
    "plt.show()"
   ]
  },
  {
   "cell_type": "markdown",
   "id": "a99ee781",
   "metadata": {},
   "source": [
    "### (10) test 데이터에 대한 성능 확인하기"
   ]
  },
  {
   "cell_type": "code",
   "execution_count": 16,
   "id": "4c95151a",
   "metadata": {},
   "outputs": [
    {
     "data": {
      "text/plain": [
       "22665.882477895284"
      ]
     },
     "execution_count": 16,
     "metadata": {},
     "output_type": "execute_result"
    }
   ],
   "source": [
    "prediction = model(X_test, W, b)\n",
    "mse = loss(X_test, W, b, y_test)\n",
    "mse"
   ]
  },
  {
   "cell_type": "markdown",
   "id": "95dd6594",
   "metadata": {},
   "source": [
    "### (11) 정답 데이터와 예측한 데이터 시각화하기"
   ]
  },
  {
   "cell_type": "code",
   "execution_count": 17,
   "id": "8280e21c",
   "metadata": {},
   "outputs": [
    {
     "data": {
      "image/png": "[encoded data removed]",
      "text/plain": [
       "<Figure size 432x288 with 1 Axes>"
      ]
     },
     "metadata": {
      "needs_background": "light"
     },
     "output_type": "display_data"
    }
   ],
   "source": [
    "plt.scatter(X_test[:, 0], y_test)\n",
    "plt.scatter(X_test[:, 0], prediction)\n",
    "plt.show()"
   ]
  }
 ],
 "metadata": {
  "kernelspec": {
   "display_name": "Python 3 (ipykernel)",
   "language": "python",
   "name": "python3"
  },
  "language_info": {
   "codemirror_mode": {
    "name": "ipython",
    "version": 3
   },
   "file_extension": ".py",
   "mimetype": "text/x-python",
   "name": "python",
   "nbconvert_exporter": "python",
   "pygments_lexer": "ipython3",
   "version": "3.9.7"
  }
 },
 "nbformat": 4,
 "nbformat_minor": 5
}
